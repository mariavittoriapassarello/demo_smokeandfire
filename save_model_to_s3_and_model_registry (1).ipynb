{
 "cells": [
  {
   "cell_type": "code",
   "execution_count": 1,
   "id": "997f7f92-44f1-490a-aecd-63cc00e5c708",
   "metadata": {},
   "outputs": [
    {
     "name": "stdout",
     "output_type": "stream",
     "text": [
      "Note: you may need to restart the kernel to use updated packages.\n",
      "\u001b[31mERROR: pip's dependency resolver does not currently take into account all the packages that are installed. This behaviour is the source of the following dependency conflicts.\n",
      "codeflare-sdk 0.30.0 requires pydantic<2, but you have pydantic 2.11.10 which is incompatible.\u001b[0m\u001b[31m\n",
      "\u001b[0mNote: you may need to restart the kernel to use updated packages.\n"
     ]
    }
   ],
   "source": [
    "%pip -q install -U pip\n",
    "%pip -q install model-registry boto3 roboflow dotenv"
   ]
  },
  {
   "cell_type": "code",
   "execution_count": 2,
   "id": "a469d383-d9e0-4034-b63e-f2394ec3fd06",
   "metadata": {},
   "outputs": [
    {
     "name": "stderr",
     "output_type": "stream",
     "text": [
      "/opt/app-root/lib64/python3.12/site-packages/pydantic/_internal/_fields.py:198: UserWarning: Field name \"schema\" in \"DataSet\" shadows an attribute in parent \"Artifact\"\n",
      "  warnings.warn(\n"
     ]
    }
   ],
   "source": [
    "from model_registry import ModelRegistry\n",
    "from model_registry.utils import S3Params\n",
    "from model_registry.exceptions import StoreError\n",
    "import os"
   ]
  },
  {
   "cell_type": "code",
   "execution_count": 7,
   "id": "f7eca430-bb7c-44b0-9bec-b86794abb48b",
   "metadata": {},
   "outputs": [],
   "source": [
    "#get s3 variables \n",
    "AWS_S3_ENDPOINT = os.environ.get('AWS_S3_ENDPOINT')\n",
    "AWS_ACCESS_KEY_ID = os.environ.get('AWS_ACCESS_KEY_ID')\n",
    "AWS_SECRET_ACCESS_KEY = os.environ.get('AWS_SECRET_ACCESS_KEY')\n",
    "AWS_S3_BUCKET = os.environ.get('AWS_S3_BUCKET')"
   ]
  },
  {
   "cell_type": "code",
   "execution_count": 6,
   "id": "b47a4c40-5cf7-4310-a496-7e4ffde615c7",
   "metadata": {},
   "outputs": [],
   "source": [
    "# connect to model registry \n",
    "USER = \"Maria Vittoria Passarello\"\n",
    "CLUSTER_DOMAIN = 'apps.cluster-2lxjg.2lxjg.sandbox2810.opentlc.com'"
   ]
  },
  {
   "cell_type": "code",
   "execution_count": 5,
   "id": "155b882b-4d0d-4104-91c8-b2879588ac69",
   "metadata": {},
   "outputs": [
    {
     "name": "stdout",
     "output_type": "stream",
     "text": [
      "https://model-registry1-rest.apps.cluster-2lxjg.2lxjg.sandbox2810.opentlc.com\n"
     ]
    }
   ],
   "source": [
    "# Set up the model registry connection\n",
    "model_registry_url = f\"https://model-registry1-rest.{CLUSTER_DOMAIN}\"\n",
    "author_name = USER\n",
    "\n",
    "print(model_registry_url)\n",
    "\n",
    "registry = ModelRegistry(server_address=model_registry_url, port=443, author=author_name, is_secure=False)"
   ]
  },
  {
   "cell_type": "code",
   "execution_count": 1,
   "id": "97d638f9-6904-4030-9b8a-8f58e7c1b847",
   "metadata": {},
   "outputs": [
    {
     "ename": "NameError",
     "evalue": "name 'USER' is not defined",
     "output_type": "error",
     "traceback": [
      "\u001b[31m---------------------------------------------------------------------------\u001b[39m",
      "\u001b[31mNameError\u001b[39m                                 Traceback (most recent call last)",
      "\u001b[36mCell\u001b[39m\u001b[36m \u001b[39m\u001b[32mIn[1]\u001b[39m\u001b[32m, line 3\u001b[39m\n\u001b[32m      1\u001b[39m registered_model_name = \u001b[33m\"\u001b[39m\u001b[33msmokeandfire\u001b[39m\u001b[33m\"\u001b[39m\n\u001b[32m      2\u001b[39m version=\u001b[33m\"\u001b[39m\u001b[33m0.0.4\u001b[39m\u001b[33m\"\u001b[39m\n\u001b[32m----> \u001b[39m\u001b[32m3\u001b[39m username = \u001b[43mUSER\u001b[49m \n",
      "\u001b[31mNameError\u001b[39m: name 'USER' is not defined"
     ]
    }
   ],
   "source": [
    "registered_model_name = \"smokeandfire\"\n",
    "version=\"0.0.4\"\n",
    "username = USER "
   ]
  },
  {
   "cell_type": "code",
   "execution_count": 27,
   "id": "6c5010cd-7abe-4479-a0cb-15f662386101",
   "metadata": {},
   "outputs": [
    {
     "name": "stdout",
     "output_type": "stream",
     "text": [
      "Nessun modello trovato\n"
     ]
    }
   ],
   "source": [
    "import glob\n",
    "files = glob.glob(\"runs/detect/train*/weights/best.onnx\")\n",
    "\n",
    "if not files:  \n",
    "    print(\"Nessun modello trovato\")\n",
    "    model_path = None\n",
    "else:\n",
    "    latest = max(files, key=os.path.getmtime)\n",
    "    model_path = latest\n",
    "    print(f\"Using model: {model_path}\")"
   ]
  },
  {
   "cell_type": "code",
   "execution_count": 8,
   "id": "42e9f41d-340e-4852-8a29-27d60ab248b5",
   "metadata": {},
   "outputs": [
    {
     "ename": "NameError",
     "evalue": "name 'version' is not defined",
     "output_type": "error",
     "traceback": [
      "\u001b[31m---------------------------------------------------------------------------\u001b[39m",
      "\u001b[31mNameError\u001b[39m                                 Traceback (most recent call last)",
      "\u001b[36mCell\u001b[39m\u001b[36m \u001b[39m\u001b[32mIn[8]\u001b[39m\u001b[32m, line 3\u001b[39m\n\u001b[32m      1\u001b[39m s3_upload_params = S3Params(\n\u001b[32m      2\u001b[39m     bucket_name=os.environ.get(\u001b[33m'\u001b[39m\u001b[33mAWS_S3_BUCKET\u001b[39m\u001b[33m'\u001b[39m),\n\u001b[32m----> \u001b[39m\u001b[32m3\u001b[39m     s3_prefix= \u001b[33mf\u001b[39m\u001b[33m\"\u001b[39m\u001b[33msmokeandfire/\u001b[39m\u001b[38;5;132;01m{\u001b[39;00m\u001b[43mversion\u001b[49m\u001b[38;5;132;01m}\u001b[39;00m\u001b[33m\"\u001b[39m,\n\u001b[32m      4\u001b[39m )\n\u001b[32m      6\u001b[39m \u001b[38;5;28;01mtry\u001b[39;00m:\n\u001b[32m      7\u001b[39m     registered_model = registry.upload_artifact_and_register_model(\n\u001b[32m      8\u001b[39m         name=registered_model_name,\n\u001b[32m      9\u001b[39m         model_files_path=model_path,\n\u001b[32m   (...)\u001b[39m\u001b[32m     21\u001b[39m         upload_params=s3_upload_params\n\u001b[32m     22\u001b[39m     )\n",
      "\u001b[31mNameError\u001b[39m: name 'version' is not defined"
     ]
    }
   ],
   "source": [
    "s3_upload_params = S3Params(\n",
    "    bucket_name=os.environ.get('AWS_S3_BUCKET'),\n",
    "    s3_prefix= f\"smokeandfire/v{version}\",\n",
    ")\n",
    "\n",
    "try:\n",
    "    registered_model = registry.upload_artifact_and_register_model(\n",
    "        name=registered_model_name,\n",
    "        model_files_path=model_path,\n",
    "        model_format_name=\"onnx\",\n",
    "        author=username,\n",
    "        model_format_version=\"1\",\n",
    "        version=version,\n",
    "        description=\"YOLO model fine tuned on images of smoke and fire\",\n",
    "        metadata={\n",
    "            \"accuracy\": 0.55,\n",
    "            \"fraction\": 0.1,\n",
    "            \"epoch\": 1,\n",
    "            \"license\": \"apache-2.0\"\n",
    "        },\n",
    "        upload_params=s3_upload_params\n",
    "    )\n",
    "\n",
    "    print(f\"'{registered_model_name}' version '{version}' has been registered here: https://rhods-dashboard-redhat-ods-applications.{CLUSTER_DOMAIN}/modelRegistry/{username}-registry/registeredModels/1/versions/{registry.get_model_version(registered_model_name, version).id}/details\")\n",
    "\n",
    "except StoreError:\n",
    "    rmver = registry.get_model_version(registered_model_name, version)\n",
    "    print(f\"Model and version already exists:\\n{rmver}\")"
   ]
  },
  {
   "cell_type": "code",
   "execution_count": null,
   "id": "6de2ee6c-80c0-4e63-827d-ce75b79150d7",
   "metadata": {},
   "outputs": [],
   "source": []
  }
 ],
 "metadata": {
  "kernelspec": {
   "display_name": "Python 3.12",
   "language": "python",
   "name": "python3"
  },
  "language_info": {
   "codemirror_mode": {
    "name": "ipython",
    "version": 3
   },
   "file_extension": ".py",
   "mimetype": "text/x-python",
   "name": "python",
   "nbconvert_exporter": "python",
   "pygments_lexer": "ipython3",
   "version": "3.12.9"
  }
 },
 "nbformat": 4,
 "nbformat_minor": 5
}
