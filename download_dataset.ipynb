{
 "cells": [
  {
   "cell_type": "code",
   "execution_count": 1,
   "id": "903292e3-5f76-463f-b120-64f937397462",
   "metadata": {},
   "outputs": [
    {
     "name": "stdout",
     "output_type": "stream",
     "text": [
      "\n",
      "\u001b[1m[\u001b[0m\u001b[34;49mnotice\u001b[0m\u001b[1;39;49m]\u001b[0m\u001b[39;49m A new release of pip is available: \u001b[0m\u001b[31;49m24.2\u001b[0m\u001b[39;49m -> \u001b[0m\u001b[32;49m25.2\u001b[0m\n",
      "\u001b[1m[\u001b[0m\u001b[34;49mnotice\u001b[0m\u001b[1;39;49m]\u001b[0m\u001b[39;49m To update, run: \u001b[0m\u001b[32;49mpip install --upgrade pip\u001b[0m\n",
      "Note: you may need to restart the kernel to use updated packages.\n"
     ]
    }
   ],
   "source": [
    "%pip install -q roboflow"
   ]
  },
  {
   "cell_type": "code",
   "execution_count": 2,
   "id": "fd97b515-f52a-4d96-bdff-5263c200636c",
   "metadata": {},
   "outputs": [],
   "source": [
    "try:\n",
    "    from roboflow import Roboflow\n",
    "    from dotenv import load_dotenv\n",
    "    import yaml\n",
    "    import os\n",
    "except Exception as e:\n",
    "    print(f\"Exception: {e}\")"
   ]
  },
  {
   "cell_type": "code",
   "execution_count": 3,
   "id": "4d3745a6-ddb8-41f4-8eb8-382a097b7f3a",
   "metadata": {},
   "outputs": [
    {
     "name": "stdout",
     "output_type": "stream",
     "text": [
      "loading Roboflow workspace...\n",
      "loading Roboflow project...\n"
     ]
    }
   ],
   "source": [
    "robo_key = os.getenv(\"ROBOFLOW_API_KEY\")\n",
    "rf = Roboflow(api_key=robo_key)\n",
    "\n",
    "project = rf.workspace(\"sayed-gamall\").project(\"fire-smoke-detection-yolov11\")\n",
    "version = project.version(2)\n",
    "dataset = version.download(\"yolov11\")"
   ]
  },
  {
   "cell_type": "code",
   "execution_count": 4,
   "id": "0f4ef8ec-2565-49ed-8103-e9ad005b6e02",
   "metadata": {},
   "outputs": [],
   "source": [
    "# Path to the YAML file\n",
    "file_path = 'Fire-Smoke-Detection-Yolov11-2/data.yaml'\n",
    "\n",
    "# Step 1: Read the YAML file\n",
    "with open(file_path, 'r') as file:\n",
    "    data = yaml.safe_load(file)\n",
    "\n",
    "# Step 2: Update paths for train, val, and test\n",
    "data['train'] = \"train/images\"\n",
    "data['val'] = \"valid/images\"\n",
    "data['test'] = \"test/images\"\n",
    "\n",
    "# Step 3: Save the updated YAML data back to the file\n",
    "with open(file_path, 'w') as file:\n",
    "    yaml.safe_dump(data, file, default_flow_style=False)"
   ]
  }
 ],
 "metadata": {
  "kernelspec": {
   "display_name": "Python 3.12",
   "language": "python",
   "name": "python3"
  },
  "language_info": {
   "codemirror_mode": {
    "name": "ipython",
    "version": 3
   },
   "file_extension": ".py",
   "mimetype": "text/x-python",
   "name": "python",
   "nbconvert_exporter": "python",
   "pygments_lexer": "ipython3",
   "version": "3.12.9"
  }
 },
 "nbformat": 4,
 "nbformat_minor": 5
}
