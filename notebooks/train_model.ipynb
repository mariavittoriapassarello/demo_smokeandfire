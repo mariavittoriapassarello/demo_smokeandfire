{
 "cells": [
  {
   "cell_type": "code",
   "execution_count": null,
   "id": "44d82652-2698-4593-9a5d-87ee47cb3aa4",
   "metadata": {},
   "outputs": [],
   "source": [
    "%pip install -q ultralytics torch"
   ]
  },
  {
   "cell_type": "code",
   "execution_count": 1,
   "id": "351260a1-50ec-4674-9f99-fe33e8cdb12e",
   "metadata": {},
   "outputs": [
    {
     "name": "stdout",
     "output_type": "stream",
     "text": [
      "Exception: No module named 'ultralytics'\n"
     ]
    }
   ],
   "source": [
    "try:\n",
    "    from ultralytics import YOLO\n",
    "    import torch.cuda as tc\n",
    "    import os\n",
    "    import yaml\n",
    "except Exception as e:\n",
    "    print(f\"Exception: {e}\")"
   ]
  },
  {
   "cell_type": "code",
   "execution_count": null,
   "id": "c9a4a139-06fe-4c27-a2e8-2c9c5a0e82b8",
   "metadata": {},
   "outputs": [],
   "source": [
    "EPOCHS: int = os.getenv(\"EPOCHS\", 1)\n",
    "BATCH_SIZE: int = os.getenv(\"BATCH_SIZE\", 2)\n",
    "LR: float = 1e-4\n",
    "OPTIMIZER: str = \"AdamW\""
   ]
  },
  {
   "cell_type": "code",
   "execution_count": null,
   "id": "addb7d5b-05b3-4af2-ad8e-fb935c2d0910",
   "metadata": {},
   "outputs": [],
   "source": [
    "accelerator: str = \"cpu\"\n",
    "#if tc.is_available():\n",
    "#    accelerator = \"cuda\"\n",
    "\n",
    "yolo_model = YOLO(\"yolo11n.pt\").to(accelerator)"
   ]
  },
  {
   "cell_type": "code",
   "execution_count": null,
   "id": "e7158785-b0e1-4b60-9c76-9256c3ddd282",
   "metadata": {},
   "outputs": [],
   "source": [
    "yolo_model.train(data=\"Fire-Smoke-Detection-Yolov11-2/data.yaml\",\n",
    "                 epochs=int(EPOCHS), lr0=LR, imgsz=640, batch=int(BATCH_SIZE),\n",
    "                 optimizer=OPTIMIZER, augment=True, device=accelerator,\n",
    "                 fraction=0.1)"
   ]
  }
 ],
 "metadata": {
  "kernelspec": {
   "display_name": "Python 3.12",
   "language": "python",
   "name": "python3"
  },
  "language_info": {
   "codemirror_mode": {
    "name": "ipython",
    "version": 3
   },
   "file_extension": ".py",
   "mimetype": "text/x-python",
   "name": "python",
   "nbconvert_exporter": "python",
   "pygments_lexer": "ipython3",
   "version": "3.12.9"
  }
 },
 "nbformat": 4,
 "nbformat_minor": 5
}
